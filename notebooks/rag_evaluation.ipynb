{
 "cells": [
  {
   "cell_type": "code",
   "execution_count": null,
   "id": "21e983e9",
   "metadata": {},
   "outputs": [],
   "source": [
    "import pandas as pd\n",
    "from src.rag import RAGPipeline\n",
    "from pathlib import Path\n",
    "\n",
    "# Initialize pipeline\n",
    "rag = RAGPipeline(\n",
    "    index_path=Path(\"../vectorstore/faiss_index.bin\"),\n",
    "    metadata_path=Path(\"../vectorstore/metadata.parquet\")\n",
    ")\n",
    "\n",
    "# Evaluation questions\n",
    "questions = [\n",
    "    \"What are the most common issues with credit cards?\",\n",
    "    \"How are customers complaining about late fees?\",\n",
    "    \"What problems do users report with the mobile app?\",\n",
    "    \"Which product has the most complaints about billing errors?\",\n",
    "    \"Are there any security concerns mentioned in complaints?\"\n",
    "]\n",
    "\n",
    "# Run evaluation\n",
    "results = []\n",
    "for question in questions:\n",
    "    result = rag.query(question)\n",
    "    results.append({\n",
    "        \"Question\": question,\n",
    "        \"Answer\": result[\"answer\"],\n",
    "        \"Product\": result[\"sources\"][0][\"product\"],\n",
    "        \"Key Excerpt\": result[\"sources\"][0][\"excerpt\"][:200] + \"...\",\n",
    "        \"Score\": None  # You'll fill this during manual review\n",
    "    })\n",
    "\n",
    "# Create evaluation dataframe\n",
    "eval_df = pd.DataFrame(results)\n",
    "eval_df.to_markdown(\"../docs/rag_evaluation.md\", index=False)"
   ]
  }
 ],
 "metadata": {
  "language_info": {
   "name": "python"
  }
 },
 "nbformat": 4,
 "nbformat_minor": 5
}
